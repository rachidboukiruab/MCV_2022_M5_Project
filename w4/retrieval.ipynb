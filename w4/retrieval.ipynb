{
 "cells": [
  {
   "cell_type": "code",
   "execution_count": 19,
   "metadata": {
    "collapsed": true
   },
   "outputs": [],
   "source": [
    "import pickle\n",
    "\n",
    "from pathlib import Path\n",
    "from tqdm.auto import notebook_tqdm\n",
    "\n",
    "from pytorch_metric_learning import losses\n",
    "from pytorch_metric_learning import distances\n",
    "from pytorch_metric_learning import losses\n",
    "from pytorch_metric_learning import samplers\n",
    "\n",
    "import numpy as np\n",
    "\n",
    "import torch\n",
    "import torch.nn as nn\n",
    "from torch import optim\n",
    "from torch.utils.data import DataLoader\n",
    "from torch.utils.tensorboard import SummaryWriter\n",
    "from torchvision import transforms\n",
    "from torchvision.datasets import ImageFolder\n",
    "from torchvision import models\n",
    "from torchvision.utils import make_grid"
   ]
  },
  {
   "cell_type": "code",
   "execution_count": 20,
   "outputs": [],
   "source": [
    "def create_headless_resnet18():\n",
    "    model = models.resnet18(pretrained=True, progress=False)\n",
    "    model = nn.Sequential(*list(model.children())[:-1])\n",
    "    return model"
   ],
   "metadata": {
    "collapsed": false,
    "pycharm": {
     "name": "#%%\n"
    }
   }
  },
  {
   "cell_type": "code",
   "execution_count": 21,
   "outputs": [],
   "source": [
    "model = create_headless_resnet18()"
   ],
   "metadata": {
    "collapsed": false,
    "pycharm": {
     "name": "#%%\n"
    }
   }
  },
  {
   "cell_type": "code",
   "execution_count": 22,
   "outputs": [],
   "source": [
    "data_path = Path(\"/home/pau/Documents/datasets/MIT_split\")\n",
    "feature_path = Path(\"./results/retrieval\")"
   ],
   "metadata": {
    "collapsed": false,
    "pycharm": {
     "name": "#%%\n"
    }
   }
  },
  {
   "cell_type": "code",
   "execution_count": 23,
   "outputs": [],
   "source": [
    "transfs = transforms.Compose([\n",
    "    transforms.ToTensor(),\n",
    "    transforms.Resize((224, 224)),\n",
    "    transforms.Normalize(mean=[0.485, 0.456, 0.406], std=[0.229, 0.224, 0.225])\n",
    "])\n",
    "\n",
    "catalogue = ImageFolder(str(data_path / \"train\"), transform=transfs)\n",
    "queries = ImageFolder(str(data_path / \"test\"), transform=transfs)"
   ],
   "metadata": {
    "collapsed": false,
    "pycharm": {
     "name": "#%%\n"
    }
   }
  },
  {
   "cell_type": "code",
   "execution_count": 24,
   "outputs": [],
   "source": [
    "catalogue_meta = [(x[0].split('/')[-1], x[1]) for x in catalogue.imgs]\n",
    "query_meta = [(x[0].split('/')[-1], x[1]) for x in queries.imgs]\n",
    "\n",
    "with (feature_path / \"catalogue_meta.pkl\").open('wb') as f_meta:\n",
    "    pickle.dump(catalogue_meta, f_meta)\n",
    "\n",
    "with (feature_path / \"query_meta.pkl\").open('wb') as f_meta:\n",
    "    pickle.dump(query_meta, f_meta)"
   ],
   "metadata": {
    "collapsed": false,
    "pycharm": {
     "name": "#%%\n"
    }
   }
  },
  {
   "cell_type": "code",
   "execution_count": 25,
   "outputs": [],
   "source": [
    "catalogue_data = np.empty((len(catalogue), 512))\n",
    "with torch.no_grad():\n",
    "    for ii, (img, _) in enumerate(catalogue):\n",
    "        catalogue_data[ii, :] = model(img.unsqueeze(0)).squeeze().numpy()\n",
    "\n",
    "with open(feature_path / \"catalogue.npy\", \"wb\") as f:\n",
    "    np.save(f, catalogue_data)"
   ],
   "metadata": {
    "collapsed": false,
    "pycharm": {
     "name": "#%%\n"
    }
   }
  },
  {
   "cell_type": "code",
   "execution_count": 26,
   "outputs": [],
   "source": [
    "query_data = np.empty((len(queries), 512))\n",
    "with torch.no_grad():\n",
    "    for ii, (img, _) in enumerate(queries):\n",
    "        query_data[ii, :] = model(img.unsqueeze(0)).squeeze().numpy()\n",
    "\n",
    "with open(feature_path / \"queries.npy\", \"wb\") as f:\n",
    "    np.save(f, query_data)"
   ],
   "metadata": {
    "collapsed": false,
    "pycharm": {
     "name": "#%%\n"
    }
   }
  },
  {
   "cell_type": "code",
   "execution_count": null,
   "outputs": [],
   "source": [
    "with open(feature_path / \"queries.npy\", \"rb\") as f:\n",
    "    query_data = np.load(f)\n",
    "with open(feature_path / \"catalogue.npy\", \"rb\") as f:\n",
    "    catalogue_data = np.load(f)\n",
    "\n",
    "with (feature_path / \"catalogue_meta.pkl\").open('wb') as fc, \\\n",
    "        (feature_path / \"query_meta.pkl\").open('wb') as fq:\n",
    "    catalogue_meta = pickle.load(fc)\n",
    "    query_meta = pickle.load(fq)"
   ],
   "metadata": {
    "collapsed": false,
    "pycharm": {
     "name": "#%%\n"
    }
   }
  },
  {
   "cell_type": "code",
   "execution_count": 40,
   "outputs": [],
   "source": [
    "from sklearn.neighbors import KNeighborsClassifier\n",
    "\n",
    "catalogue_labels = np.asarray([x[1] for x in catalogue_meta])\n",
    "query_labels = np.asarray([x[1] for x in query_meta])\n",
    "\n",
    "knn = KNeighborsClassifier(n_neighbors=5)\n",
    "knn = knn.fit(catalogue_data, catalogue_labels)\n",
    "predictions = knn.predict(query_data)\n",
    "pr_prob = knn.predict_proba(query_data)"
   ],
   "metadata": {
    "collapsed": false,
    "pycharm": {
     "name": "#%%\n"
    }
   }
  },
  {
   "cell_type": "code",
   "execution_count": 43,
   "outputs": [],
   "source": [
    "from sklearn.metrics import f1_score, average_precision_score\n",
    "\n",
    "one_hot = np.zeros((predictions.shape[0], max(predictions) + 1), dtype=int)\n",
    "one_hot[predictions] = 1\n",
    "\n",
    "f1 = f1_score(query_labels, predictions, average=\"macro\")\n",
    "ap = average_precision_score(one_hot, pr_prob)"
   ],
   "metadata": {
    "collapsed": false,
    "pycharm": {
     "name": "#%%\n"
    }
   }
  },
  {
   "cell_type": "code",
   "execution_count": 45,
   "outputs": [
    {
     "data": {
      "text/plain": "array([[0. , 0. , 0.8, ..., 0. , 0. , 0. ],\n       [0.8, 0.2, 0. , ..., 0. , 0. , 0. ],\n       [0. , 0. , 0.4, ..., 0.2, 0. , 0.4],\n       ...,\n       [0. , 0. , 0. , ..., 0. , 0.2, 0.6],\n       [0. , 0. , 0. , ..., 0. , 0.4, 0.4],\n       [0. , 0. , 0. , ..., 0. , 0. , 1. ]])"
     },
     "execution_count": 45,
     "metadata": {},
     "output_type": "execute_result"
    }
   ],
   "source": [
    "pr_prob"
   ],
   "metadata": {
    "collapsed": false,
    "pycharm": {
     "name": "#%%\n"
    }
   }
  },
  {
   "cell_type": "code",
   "execution_count": 44,
   "outputs": [
    {
     "name": "stdout",
     "output_type": "stream",
     "text": [
      "0.014844389654713325 0.3793890191797535\n"
     ]
    }
   ],
   "source": [
    "print(ap, f1)"
   ],
   "metadata": {
    "collapsed": false,
    "pycharm": {
     "name": "#%%\n"
    }
   }
  }
 ],
 "metadata": {
  "kernelspec": {
   "display_name": "Python 3",
   "language": "python",
   "name": "python3"
  },
  "language_info": {
   "codemirror_mode": {
    "name": "ipython",
    "version": 2
   },
   "file_extension": ".py",
   "mimetype": "text/x-python",
   "name": "python",
   "nbconvert_exporter": "python",
   "pygments_lexer": "ipython2",
   "version": "2.7.6"
  }
 },
 "nbformat": 4,
 "nbformat_minor": 0
}
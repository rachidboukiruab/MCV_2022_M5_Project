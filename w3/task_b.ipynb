{
 "cells": [
  {
   "cell_type": "code",
   "execution_count": 112,
   "metadata": {
    "collapsed": true
   },
   "outputs": [],
   "source": [
    "import json\n",
    "from pathlib import Path"
   ]
  },
  {
   "cell_type": "code",
   "execution_count": 130,
   "outputs": [],
   "source": [
    "path = Path(\"/home/pau/Documents/datasets/coco2017/annotations\")\n",
    "results = Path(\"./results/task_b\")"
   ],
   "metadata": {
    "collapsed": false,
    "pycharm": {
     "name": "#%%\n"
    }
   }
  },
  {
   "cell_type": "markdown",
   "source": [
    "For now explore the validation partition, since it is way smaller"
   ],
   "metadata": {
    "collapsed": false
   }
  },
  {
   "cell_type": "code",
   "execution_count": 114,
   "outputs": [],
   "source": [
    "with open(path / \"captions_train2017.json\", 'r') as f_json:\n",
    "    captions = json.load(f_json)\n",
    "\n",
    "with open(path / \"instances_train2017.json\", 'r') as f_json:\n",
    "    instances = json.load(f_json)"
   ],
   "metadata": {
    "collapsed": false,
    "pycharm": {
     "name": "#%%\n"
    }
   }
  },
  {
   "cell_type": "code",
   "execution_count": 115,
   "outputs": [
    {
     "name": "stdout",
     "output_type": "stream",
     "text": [
      "['info', 'licenses', 'images', 'annotations']\n",
      "['info', 'licenses', 'images', 'annotations', 'categories']\n"
     ]
    }
   ],
   "source": [
    "print(list(captions.keys()))\n",
    "print(list(instances.keys()))"
   ],
   "metadata": {
    "collapsed": false,
    "pycharm": {
     "name": "#%%\n"
    }
   }
  },
  {
   "cell_type": "code",
   "execution_count": 116,
   "outputs": [
    {
     "data": {
      "text/plain": "[{'image_id': 203564,\n  'id': 37,\n  'caption': 'A bicycle replica with a clock as the front wheel.'},\n {'image_id': 322141,\n  'id': 49,\n  'caption': 'A room with blue walls and a white sink and door.'},\n {'image_id': 16977,\n  'id': 89,\n  'caption': 'A car that seems to be parked illegally behind a legally parked car'},\n {'image_id': 106140,\n  'id': 98,\n  'caption': 'A large passenger airplane flying through the air.'},\n {'image_id': 106140,\n  'id': 101,\n  'caption': 'There is a GOL plane taking off in a partly cloudy sky.'}]"
     },
     "execution_count": 116,
     "metadata": {},
     "output_type": "execute_result"
    }
   ],
   "source": [
    "captions[\"annotations\"][:5]"
   ],
   "metadata": {
    "collapsed": false,
    "pycharm": {
     "name": "#%%\n"
    }
   }
  },
  {
   "cell_type": "code",
   "execution_count": 117,
   "outputs": [
    {
     "data": {
      "text/plain": "[{'segmentation': [[239.97,\n    260.24,\n    222.04,\n    270.49,\n    199.84,\n    253.41,\n    213.5,\n    227.79,\n    259.62,\n    200.46,\n    274.13,\n    202.17,\n    277.55,\n    210.71,\n    249.37,\n    253.41,\n    237.41,\n    264.51,\n    242.54,\n    261.95,\n    228.87,\n    271.34]],\n  'area': 2765.1486500000005,\n  'iscrowd': 0,\n  'image_id': 558840,\n  'bbox': [199.84, 200.46, 77.71, 70.88],\n  'category_id': 58,\n  'id': 156},\n {'segmentation': [[247.71,\n    354.7,\n    253.49,\n    346.99,\n    276.63,\n    337.35,\n    312.29,\n    333.49,\n    364.34,\n    331.57,\n    354.7,\n    327.71,\n    369.16,\n    325.78,\n    376.87,\n    333.49,\n    383.61,\n    330.6,\n    379.76,\n    321.93,\n    365.3,\n    320.0,\n    356.63,\n    317.11,\n    266.02,\n    331.57,\n    260.24,\n    334.46,\n    260.24,\n    337.35,\n    242.89,\n    338.31,\n    234.22,\n    338.31,\n    234.22,\n    348.92,\n    239.04,\n    353.73,\n    248.67,\n    355.66,\n    252.53,\n    353.73]],\n  'area': 1545.4213000000007,\n  'iscrowd': 0,\n  'image_id': 200365,\n  'bbox': [234.22, 317.11, 149.39, 38.55],\n  'category_id': 58,\n  'id': 509},\n {'segmentation': [[274.58,\n    405.68,\n    298.32,\n    405.68,\n    302.45,\n    402.58,\n    333.42,\n    404.65,\n    356.13,\n    397.42,\n    386.06,\n    386.06,\n    398.45,\n    367.48,\n    399.48,\n    356.13,\n    392.26,\n    347.87,\n    382.97,\n    350.97,\n    339.61,\n    357.16,\n    283.87,\n    365.42,\n    269.42,\n    367.48,\n    243.61,\n    362.32,\n    239.48,\n    368.52,\n    241.55,\n    374.71,\n    253.94,\n    381.94,\n    267.35,\n    385.03,\n    271.48,\n    394.32,\n    271.48,\n    399.48,\n    272.52,\n    400.52,\n    281.81,\n    404.65]],\n  'area': 5607.661349999996,\n  'iscrowd': 0,\n  'image_id': 200365,\n  'bbox': [239.48, 347.87, 160.0, 57.81],\n  'category_id': 58,\n  'id': 603},\n {'segmentation': [[296.65,\n    388.33,\n    296.65,\n    388.33,\n    297.68,\n    388.33,\n    297.68,\n    388.33]],\n  'area': 0.0,\n  'iscrowd': 0,\n  'image_id': 200365,\n  'bbox': [296.65, 388.33, 1.03, 0.0],\n  'category_id': 58,\n  'id': 918},\n {'segmentation': [[251.87,\n    356.13,\n    260.13,\n    343.74,\n    300.39,\n    335.48,\n    323.1,\n    335.48,\n    340.65,\n    335.48,\n    366.45,\n    334.45,\n    377.81,\n    333.42,\n    359.23,\n    337.55,\n    332.39,\n    340.65,\n    300.39,\n    346.84,\n    267.35,\n    349.94,\n    252.9,\n    355.1,\n    252.9,\n    355.1]],\n  'area': 800.4132499999978,\n  'iscrowd': 0,\n  'image_id': 200365,\n  'bbox': [251.87, 333.42, 125.94, 22.71],\n  'category_id': 58,\n  'id': 1072}]"
     },
     "execution_count": 117,
     "metadata": {},
     "output_type": "execute_result"
    }
   ],
   "source": [
    "instances[\"annotations\"][:5]"
   ],
   "metadata": {
    "collapsed": false,
    "pycharm": {
     "name": "#%%\n"
    }
   }
  },
  {
   "cell_type": "code",
   "execution_count": 118,
   "outputs": [],
   "source": [
    "cat_objs = instances[\"categories\"]\n",
    "\n",
    "cat_objs.sort(key=lambda x: x[\"id\"])\n",
    "num_classes = cat_objs[-1][\"id\"]"
   ],
   "metadata": {
    "collapsed": false,
    "pycharm": {
     "name": "#%%\n"
    }
   }
  },
  {
   "cell_type": "code",
   "execution_count": 119,
   "outputs": [],
   "source": [
    "class_names = [\"\" for x in range(num_classes + 1)]\n",
    "\n",
    "for x in cat_objs:\n",
    "    class_names[x[\"id\"] - 1] = x[\"name\"]"
   ],
   "metadata": {
    "collapsed": false,
    "pycharm": {
     "name": "#%%\n"
    }
   }
  },
  {
   "cell_type": "code",
   "execution_count": 120,
   "outputs": [],
   "source": [
    "img_to_class = {}\n",
    "\n",
    "for x in instances[\"annotations\"]:\n",
    "    if x[\"image_id\"] not in img_to_class.keys():\n",
    "        img_to_class[x[\"image_id\"]] = []\n",
    "    img_to_class[x[\"image_id\"]].append(x[\"category_id\"])"
   ],
   "metadata": {
    "collapsed": false,
    "pycharm": {
     "name": "#%%\n"
    }
   }
  },
  {
   "cell_type": "code",
   "execution_count": 121,
   "outputs": [],
   "source": [
    "import numpy as np\n",
    "\n",
    "counts = np.zeros((len(class_names), len(class_names)), dtype=int)\n",
    "\n",
    "for k, v in img_to_class.items():\n",
    "    v = list(set(v))\n",
    "    v.sort()\n",
    "    for ii in range(len(v)):\n",
    "        for jj in range(ii, len(v)):\n",
    "            counts[v[ii] - 1, v[jj] - 1] += 1"
   ],
   "metadata": {
    "collapsed": false,
    "pycharm": {
     "name": "#%%\n"
    }
   }
  },
  {
   "cell_type": "code",
   "execution_count": 122,
   "outputs": [],
   "source": [
    "n_images = len(instances[\"images\"])"
   ],
   "metadata": {
    "collapsed": false,
    "pycharm": {
     "name": "#%%\n"
    }
   }
  },
  {
   "cell_type": "code",
   "execution_count": 123,
   "outputs": [],
   "source": [
    "diagonal_ind = np.diag(np.ones(len(class_names), dtype=bool))\n",
    "class_counts = counts[diagonal_ind]\n",
    "counts[diagonal_ind] = 0\n",
    "\n",
    "counts += counts.T"
   ],
   "metadata": {
    "collapsed": false,
    "pycharm": {
     "name": "#%%\n"
    }
   }
  },
  {
   "cell_type": "code",
   "execution_count": 124,
   "outputs": [
    {
     "name": "stderr",
     "output_type": "stream",
     "text": [
      "/tmp/ipykernel_125152/1299758643.py:3: RuntimeWarning: invalid value encountered in true_divide\n",
      "  cprobs = jprobs / class_probs[:, None]\n"
     ]
    }
   ],
   "source": [
    "class_probs = class_counts / n_images\n",
    "jprobs = counts.astype(float) / n_images\n",
    "cprobs = jprobs / class_probs[:, None]"
   ],
   "metadata": {
    "collapsed": false,
    "pycharm": {
     "name": "#%%\n"
    }
   }
  },
  {
   "cell_type": "code",
   "execution_count": 125,
   "outputs": [],
   "source": [
    "import pandas as pd\n",
    "\n",
    "class_probs = pd.DataFrame(class_probs, index=class_names)\n",
    "counts = pd.DataFrame(counts, index=class_names, columns=class_names)\n",
    "jprobs = pd.DataFrame(jprobs, index=class_names, columns=class_names)\n",
    "cprobs = pd.DataFrame(cprobs, index=class_names, columns=class_names)"
   ],
   "metadata": {
    "collapsed": false,
    "pycharm": {
     "name": "#%%\n"
    }
   }
  },
  {
   "cell_type": "code",
   "execution_count": 126,
   "outputs": [
    {
     "data": {
      "text/plain": "            person  bicycle   car  motorcycle  airplane   bus  train  truck  \\\nperson           0     2643  8519        2786      1027  3011   1627   3992   \nbicycle       2643        0  1235         452        17   432    103    448   \ncar           8519     1235     0        1377       357  2125    422   3664   \nmotorcycle    2786      452  1377           0        15   293     24    631   \nairplane      1027       17   357          15         0    72      8    644   \n...            ...      ...   ...         ...       ...   ...    ...    ...   \nscissors       390        5     9           1         0     0      0      5   \nteddy bear     856       25    80          15         2     8      7     16   \nhair drier      98        0     2           1         1     1      0      0   \ntoothbrush     540        4     9           0         0     0      0      1   \n                 0        0     0           0         0     0      0      0   \n\n            boat  traffic light  ...  refrigerator     book  clock  vase  \\\nperson      1987           2450  ...           873  0  2279   1905   839   \nbicycle      124            459  ...            18  0    71     97    17   \ncar          262           2534  ...            35  0    91    499    40   \nmotorcycle    22            322  ...             5  0    26     51     3   \nairplane      78             22  ...             2  0     8     11     1   \n...          ...            ...  ...           ... ..   ...    ...   ...   \nscissors       0              1  ...            31  0   142     35    35   \nteddy bear    11              7  ...            12  0   271     46    62   \nhair drier     0              0  ...             1  0    11      8    10   \ntoothbrush     2              1  ...             6  0    52     18    29   \n               0              0  ...             0  0     0      0     0   \n\n            scissors  teddy bear  hair drier  toothbrush     \nperson           390         856          98         540  0  \nbicycle            5          25           0           4  0  \ncar                9          80           2           9  0  \nmotorcycle         1          15           1           0  0  \nairplane           0           2           1           0  0  \n...              ...         ...         ...         ... ..  \nscissors           0           9           2          15  0  \nteddy bear         9           0           3          10  0  \nhair drier         2           3           0          21  0  \ntoothbrush        15          10          21           0  0  \n                   0           0           0           0  0  \n\n[91 rows x 91 columns]",
      "text/html": "<div>\n<style scoped>\n    .dataframe tbody tr th:only-of-type {\n        vertical-align: middle;\n    }\n\n    .dataframe tbody tr th {\n        vertical-align: top;\n    }\n\n    .dataframe thead th {\n        text-align: right;\n    }\n</style>\n<table border=\"1\" class=\"dataframe\">\n  <thead>\n    <tr style=\"text-align: right;\">\n      <th></th>\n      <th>person</th>\n      <th>bicycle</th>\n      <th>car</th>\n      <th>motorcycle</th>\n      <th>airplane</th>\n      <th>bus</th>\n      <th>train</th>\n      <th>truck</th>\n      <th>boat</th>\n      <th>traffic light</th>\n      <th>...</th>\n      <th>refrigerator</th>\n      <th></th>\n      <th>book</th>\n      <th>clock</th>\n      <th>vase</th>\n      <th>scissors</th>\n      <th>teddy bear</th>\n      <th>hair drier</th>\n      <th>toothbrush</th>\n      <th></th>\n    </tr>\n  </thead>\n  <tbody>\n    <tr>\n      <th>person</th>\n      <td>0</td>\n      <td>2643</td>\n      <td>8519</td>\n      <td>2786</td>\n      <td>1027</td>\n      <td>3011</td>\n      <td>1627</td>\n      <td>3992</td>\n      <td>1987</td>\n      <td>2450</td>\n      <td>...</td>\n      <td>873</td>\n      <td>0</td>\n      <td>2279</td>\n      <td>1905</td>\n      <td>839</td>\n      <td>390</td>\n      <td>856</td>\n      <td>98</td>\n      <td>540</td>\n      <td>0</td>\n    </tr>\n    <tr>\n      <th>bicycle</th>\n      <td>2643</td>\n      <td>0</td>\n      <td>1235</td>\n      <td>452</td>\n      <td>17</td>\n      <td>432</td>\n      <td>103</td>\n      <td>448</td>\n      <td>124</td>\n      <td>459</td>\n      <td>...</td>\n      <td>18</td>\n      <td>0</td>\n      <td>71</td>\n      <td>97</td>\n      <td>17</td>\n      <td>5</td>\n      <td>25</td>\n      <td>0</td>\n      <td>4</td>\n      <td>0</td>\n    </tr>\n    <tr>\n      <th>car</th>\n      <td>8519</td>\n      <td>1235</td>\n      <td>0</td>\n      <td>1377</td>\n      <td>357</td>\n      <td>2125</td>\n      <td>422</td>\n      <td>3664</td>\n      <td>262</td>\n      <td>2534</td>\n      <td>...</td>\n      <td>35</td>\n      <td>0</td>\n      <td>91</td>\n      <td>499</td>\n      <td>40</td>\n      <td>9</td>\n      <td>80</td>\n      <td>2</td>\n      <td>9</td>\n      <td>0</td>\n    </tr>\n    <tr>\n      <th>motorcycle</th>\n      <td>2786</td>\n      <td>452</td>\n      <td>1377</td>\n      <td>0</td>\n      <td>15</td>\n      <td>293</td>\n      <td>24</td>\n      <td>631</td>\n      <td>22</td>\n      <td>322</td>\n      <td>...</td>\n      <td>5</td>\n      <td>0</td>\n      <td>26</td>\n      <td>51</td>\n      <td>3</td>\n      <td>1</td>\n      <td>15</td>\n      <td>1</td>\n      <td>0</td>\n      <td>0</td>\n    </tr>\n    <tr>\n      <th>airplane</th>\n      <td>1027</td>\n      <td>17</td>\n      <td>357</td>\n      <td>15</td>\n      <td>0</td>\n      <td>72</td>\n      <td>8</td>\n      <td>644</td>\n      <td>78</td>\n      <td>22</td>\n      <td>...</td>\n      <td>2</td>\n      <td>0</td>\n      <td>8</td>\n      <td>11</td>\n      <td>1</td>\n      <td>0</td>\n      <td>2</td>\n      <td>1</td>\n      <td>0</td>\n      <td>0</td>\n    </tr>\n    <tr>\n      <th>...</th>\n      <td>...</td>\n      <td>...</td>\n      <td>...</td>\n      <td>...</td>\n      <td>...</td>\n      <td>...</td>\n      <td>...</td>\n      <td>...</td>\n      <td>...</td>\n      <td>...</td>\n      <td>...</td>\n      <td>...</td>\n      <td>...</td>\n      <td>...</td>\n      <td>...</td>\n      <td>...</td>\n      <td>...</td>\n      <td>...</td>\n      <td>...</td>\n      <td>...</td>\n      <td>...</td>\n    </tr>\n    <tr>\n      <th>scissors</th>\n      <td>390</td>\n      <td>5</td>\n      <td>9</td>\n      <td>1</td>\n      <td>0</td>\n      <td>0</td>\n      <td>0</td>\n      <td>5</td>\n      <td>0</td>\n      <td>1</td>\n      <td>...</td>\n      <td>31</td>\n      <td>0</td>\n      <td>142</td>\n      <td>35</td>\n      <td>35</td>\n      <td>0</td>\n      <td>9</td>\n      <td>2</td>\n      <td>15</td>\n      <td>0</td>\n    </tr>\n    <tr>\n      <th>teddy bear</th>\n      <td>856</td>\n      <td>25</td>\n      <td>80</td>\n      <td>15</td>\n      <td>2</td>\n      <td>8</td>\n      <td>7</td>\n      <td>16</td>\n      <td>11</td>\n      <td>7</td>\n      <td>...</td>\n      <td>12</td>\n      <td>0</td>\n      <td>271</td>\n      <td>46</td>\n      <td>62</td>\n      <td>9</td>\n      <td>0</td>\n      <td>3</td>\n      <td>10</td>\n      <td>0</td>\n    </tr>\n    <tr>\n      <th>hair drier</th>\n      <td>98</td>\n      <td>0</td>\n      <td>2</td>\n      <td>1</td>\n      <td>1</td>\n      <td>1</td>\n      <td>0</td>\n      <td>0</td>\n      <td>0</td>\n      <td>0</td>\n      <td>...</td>\n      <td>1</td>\n      <td>0</td>\n      <td>11</td>\n      <td>8</td>\n      <td>10</td>\n      <td>2</td>\n      <td>3</td>\n      <td>0</td>\n      <td>21</td>\n      <td>0</td>\n    </tr>\n    <tr>\n      <th>toothbrush</th>\n      <td>540</td>\n      <td>4</td>\n      <td>9</td>\n      <td>0</td>\n      <td>0</td>\n      <td>0</td>\n      <td>0</td>\n      <td>1</td>\n      <td>2</td>\n      <td>1</td>\n      <td>...</td>\n      <td>6</td>\n      <td>0</td>\n      <td>52</td>\n      <td>18</td>\n      <td>29</td>\n      <td>15</td>\n      <td>10</td>\n      <td>21</td>\n      <td>0</td>\n      <td>0</td>\n    </tr>\n    <tr>\n      <th></th>\n      <td>0</td>\n      <td>0</td>\n      <td>0</td>\n      <td>0</td>\n      <td>0</td>\n      <td>0</td>\n      <td>0</td>\n      <td>0</td>\n      <td>0</td>\n      <td>0</td>\n      <td>...</td>\n      <td>0</td>\n      <td>0</td>\n      <td>0</td>\n      <td>0</td>\n      <td>0</td>\n      <td>0</td>\n      <td>0</td>\n      <td>0</td>\n      <td>0</td>\n      <td>0</td>\n    </tr>\n  </tbody>\n</table>\n<p>91 rows × 91 columns</p>\n</div>"
     },
     "execution_count": 126,
     "metadata": {},
     "output_type": "execute_result"
    }
   ],
   "source": [
    "counts"
   ],
   "metadata": {
    "collapsed": false,
    "pycharm": {
     "name": "#%%\n"
    }
   }
  },
  {
   "cell_type": "code",
   "execution_count": 127,
   "outputs": [
    {
     "data": {
      "text/plain": "              person   bicycle       car  motorcycle  airplane       bus  \\\nperson      0.000000  0.022344  0.072020    0.023553  0.008682  0.025455   \nbicycle     0.022344  0.000000  0.010441    0.003821  0.000144  0.003652   \ncar         0.072020  0.010441  0.000000    0.011641  0.003018  0.017965   \nmotorcycle  0.023553  0.003821  0.011641    0.000000  0.000127  0.002477   \nairplane    0.008682  0.000144  0.003018    0.000127  0.000000  0.000609   \n...              ...       ...       ...         ...       ...       ...   \nscissors    0.003297  0.000042  0.000076    0.000008  0.000000  0.000000   \nteddy bear  0.007237  0.000211  0.000676    0.000127  0.000017  0.000068   \nhair drier  0.000828  0.000000  0.000017    0.000008  0.000008  0.000008   \ntoothbrush  0.004565  0.000034  0.000076    0.000000  0.000000  0.000000   \n            0.000000  0.000000  0.000000    0.000000  0.000000  0.000000   \n\n               train     truck      boat  traffic light  ...  refrigerator  \\\nperson      0.013755  0.033748  0.016798       0.020712  ...      0.007380   \nbicycle     0.000871  0.003787  0.001048       0.003880  ...      0.000152   \ncar         0.003568  0.030976  0.002215       0.021422  ...      0.000296   \nmotorcycle  0.000203  0.005334  0.000186       0.002722  ...      0.000042   \nairplane    0.000068  0.005444  0.000659       0.000186  ...      0.000017   \n...              ...       ...       ...            ...  ...           ...   \nscissors    0.000000  0.000042  0.000000       0.000008  ...      0.000262   \nteddy bear  0.000059  0.000135  0.000093       0.000059  ...      0.000101   \nhair drier  0.000000  0.000000  0.000000       0.000000  ...      0.000008   \ntoothbrush  0.000000  0.000008  0.000017       0.000008  ...      0.000051   \n            0.000000  0.000000  0.000000       0.000000  ...      0.000000   \n\n                     book     clock      vase  scissors  teddy bear  \\\nperson      0.0  0.019267  0.016105  0.007093  0.003297    0.007237   \nbicycle     0.0  0.000600  0.000820  0.000144  0.000042    0.000211   \ncar         0.0  0.000769  0.004219  0.000338  0.000076    0.000676   \nmotorcycle  0.0  0.000220  0.000431  0.000025  0.000008    0.000127   \nairplane    0.0  0.000068  0.000093  0.000008  0.000000    0.000017   \n...         ...       ...       ...       ...       ...         ...   \nscissors    0.0  0.001200  0.000296  0.000296  0.000000    0.000076   \nteddy bear  0.0  0.002291  0.000389  0.000524  0.000076    0.000000   \nhair drier  0.0  0.000093  0.000068  0.000085  0.000017    0.000025   \ntoothbrush  0.0  0.000440  0.000152  0.000245  0.000127    0.000085   \n            0.0  0.000000  0.000000  0.000000  0.000000    0.000000   \n\n            hair drier  toothbrush       \nperson        0.000828    0.004565  0.0  \nbicycle       0.000000    0.000034  0.0  \ncar           0.000017    0.000076  0.0  \nmotorcycle    0.000008    0.000000  0.0  \nairplane      0.000008    0.000000  0.0  \n...                ...         ...  ...  \nscissors      0.000017    0.000127  0.0  \nteddy bear    0.000025    0.000085  0.0  \nhair drier    0.000000    0.000178  0.0  \ntoothbrush    0.000178    0.000000  0.0  \n              0.000000    0.000000  0.0  \n\n[91 rows x 91 columns]",
      "text/html": "<div>\n<style scoped>\n    .dataframe tbody tr th:only-of-type {\n        vertical-align: middle;\n    }\n\n    .dataframe tbody tr th {\n        vertical-align: top;\n    }\n\n    .dataframe thead th {\n        text-align: right;\n    }\n</style>\n<table border=\"1\" class=\"dataframe\">\n  <thead>\n    <tr style=\"text-align: right;\">\n      <th></th>\n      <th>person</th>\n      <th>bicycle</th>\n      <th>car</th>\n      <th>motorcycle</th>\n      <th>airplane</th>\n      <th>bus</th>\n      <th>train</th>\n      <th>truck</th>\n      <th>boat</th>\n      <th>traffic light</th>\n      <th>...</th>\n      <th>refrigerator</th>\n      <th></th>\n      <th>book</th>\n      <th>clock</th>\n      <th>vase</th>\n      <th>scissors</th>\n      <th>teddy bear</th>\n      <th>hair drier</th>\n      <th>toothbrush</th>\n      <th></th>\n    </tr>\n  </thead>\n  <tbody>\n    <tr>\n      <th>person</th>\n      <td>0.000000</td>\n      <td>0.022344</td>\n      <td>0.072020</td>\n      <td>0.023553</td>\n      <td>0.008682</td>\n      <td>0.025455</td>\n      <td>0.013755</td>\n      <td>0.033748</td>\n      <td>0.016798</td>\n      <td>0.020712</td>\n      <td>...</td>\n      <td>0.007380</td>\n      <td>0.0</td>\n      <td>0.019267</td>\n      <td>0.016105</td>\n      <td>0.007093</td>\n      <td>0.003297</td>\n      <td>0.007237</td>\n      <td>0.000828</td>\n      <td>0.004565</td>\n      <td>0.0</td>\n    </tr>\n    <tr>\n      <th>bicycle</th>\n      <td>0.022344</td>\n      <td>0.000000</td>\n      <td>0.010441</td>\n      <td>0.003821</td>\n      <td>0.000144</td>\n      <td>0.003652</td>\n      <td>0.000871</td>\n      <td>0.003787</td>\n      <td>0.001048</td>\n      <td>0.003880</td>\n      <td>...</td>\n      <td>0.000152</td>\n      <td>0.0</td>\n      <td>0.000600</td>\n      <td>0.000820</td>\n      <td>0.000144</td>\n      <td>0.000042</td>\n      <td>0.000211</td>\n      <td>0.000000</td>\n      <td>0.000034</td>\n      <td>0.0</td>\n    </tr>\n    <tr>\n      <th>car</th>\n      <td>0.072020</td>\n      <td>0.010441</td>\n      <td>0.000000</td>\n      <td>0.011641</td>\n      <td>0.003018</td>\n      <td>0.017965</td>\n      <td>0.003568</td>\n      <td>0.030976</td>\n      <td>0.002215</td>\n      <td>0.021422</td>\n      <td>...</td>\n      <td>0.000296</td>\n      <td>0.0</td>\n      <td>0.000769</td>\n      <td>0.004219</td>\n      <td>0.000338</td>\n      <td>0.000076</td>\n      <td>0.000676</td>\n      <td>0.000017</td>\n      <td>0.000076</td>\n      <td>0.0</td>\n    </tr>\n    <tr>\n      <th>motorcycle</th>\n      <td>0.023553</td>\n      <td>0.003821</td>\n      <td>0.011641</td>\n      <td>0.000000</td>\n      <td>0.000127</td>\n      <td>0.002477</td>\n      <td>0.000203</td>\n      <td>0.005334</td>\n      <td>0.000186</td>\n      <td>0.002722</td>\n      <td>...</td>\n      <td>0.000042</td>\n      <td>0.0</td>\n      <td>0.000220</td>\n      <td>0.000431</td>\n      <td>0.000025</td>\n      <td>0.000008</td>\n      <td>0.000127</td>\n      <td>0.000008</td>\n      <td>0.000000</td>\n      <td>0.0</td>\n    </tr>\n    <tr>\n      <th>airplane</th>\n      <td>0.008682</td>\n      <td>0.000144</td>\n      <td>0.003018</td>\n      <td>0.000127</td>\n      <td>0.000000</td>\n      <td>0.000609</td>\n      <td>0.000068</td>\n      <td>0.005444</td>\n      <td>0.000659</td>\n      <td>0.000186</td>\n      <td>...</td>\n      <td>0.000017</td>\n      <td>0.0</td>\n      <td>0.000068</td>\n      <td>0.000093</td>\n      <td>0.000008</td>\n      <td>0.000000</td>\n      <td>0.000017</td>\n      <td>0.000008</td>\n      <td>0.000000</td>\n      <td>0.0</td>\n    </tr>\n    <tr>\n      <th>...</th>\n      <td>...</td>\n      <td>...</td>\n      <td>...</td>\n      <td>...</td>\n      <td>...</td>\n      <td>...</td>\n      <td>...</td>\n      <td>...</td>\n      <td>...</td>\n      <td>...</td>\n      <td>...</td>\n      <td>...</td>\n      <td>...</td>\n      <td>...</td>\n      <td>...</td>\n      <td>...</td>\n      <td>...</td>\n      <td>...</td>\n      <td>...</td>\n      <td>...</td>\n      <td>...</td>\n    </tr>\n    <tr>\n      <th>scissors</th>\n      <td>0.003297</td>\n      <td>0.000042</td>\n      <td>0.000076</td>\n      <td>0.000008</td>\n      <td>0.000000</td>\n      <td>0.000000</td>\n      <td>0.000000</td>\n      <td>0.000042</td>\n      <td>0.000000</td>\n      <td>0.000008</td>\n      <td>...</td>\n      <td>0.000262</td>\n      <td>0.0</td>\n      <td>0.001200</td>\n      <td>0.000296</td>\n      <td>0.000296</td>\n      <td>0.000000</td>\n      <td>0.000076</td>\n      <td>0.000017</td>\n      <td>0.000127</td>\n      <td>0.0</td>\n    </tr>\n    <tr>\n      <th>teddy bear</th>\n      <td>0.007237</td>\n      <td>0.000211</td>\n      <td>0.000676</td>\n      <td>0.000127</td>\n      <td>0.000017</td>\n      <td>0.000068</td>\n      <td>0.000059</td>\n      <td>0.000135</td>\n      <td>0.000093</td>\n      <td>0.000059</td>\n      <td>...</td>\n      <td>0.000101</td>\n      <td>0.0</td>\n      <td>0.002291</td>\n      <td>0.000389</td>\n      <td>0.000524</td>\n      <td>0.000076</td>\n      <td>0.000000</td>\n      <td>0.000025</td>\n      <td>0.000085</td>\n      <td>0.0</td>\n    </tr>\n    <tr>\n      <th>hair drier</th>\n      <td>0.000828</td>\n      <td>0.000000</td>\n      <td>0.000017</td>\n      <td>0.000008</td>\n      <td>0.000008</td>\n      <td>0.000008</td>\n      <td>0.000000</td>\n      <td>0.000000</td>\n      <td>0.000000</td>\n      <td>0.000000</td>\n      <td>...</td>\n      <td>0.000008</td>\n      <td>0.0</td>\n      <td>0.000093</td>\n      <td>0.000068</td>\n      <td>0.000085</td>\n      <td>0.000017</td>\n      <td>0.000025</td>\n      <td>0.000000</td>\n      <td>0.000178</td>\n      <td>0.0</td>\n    </tr>\n    <tr>\n      <th>toothbrush</th>\n      <td>0.004565</td>\n      <td>0.000034</td>\n      <td>0.000076</td>\n      <td>0.000000</td>\n      <td>0.000000</td>\n      <td>0.000000</td>\n      <td>0.000000</td>\n      <td>0.000008</td>\n      <td>0.000017</td>\n      <td>0.000008</td>\n      <td>...</td>\n      <td>0.000051</td>\n      <td>0.0</td>\n      <td>0.000440</td>\n      <td>0.000152</td>\n      <td>0.000245</td>\n      <td>0.000127</td>\n      <td>0.000085</td>\n      <td>0.000178</td>\n      <td>0.000000</td>\n      <td>0.0</td>\n    </tr>\n    <tr>\n      <th></th>\n      <td>0.000000</td>\n      <td>0.000000</td>\n      <td>0.000000</td>\n      <td>0.000000</td>\n      <td>0.000000</td>\n      <td>0.000000</td>\n      <td>0.000000</td>\n      <td>0.000000</td>\n      <td>0.000000</td>\n      <td>0.000000</td>\n      <td>...</td>\n      <td>0.000000</td>\n      <td>0.0</td>\n      <td>0.000000</td>\n      <td>0.000000</td>\n      <td>0.000000</td>\n      <td>0.000000</td>\n      <td>0.000000</td>\n      <td>0.000000</td>\n      <td>0.000000</td>\n      <td>0.0</td>\n    </tr>\n  </tbody>\n</table>\n<p>91 rows × 91 columns</p>\n</div>"
     },
     "execution_count": 127,
     "metadata": {},
     "output_type": "execute_result"
    }
   ],
   "source": [
    "jprobs"
   ],
   "metadata": {
    "collapsed": false,
    "pycharm": {
     "name": "#%%\n"
    }
   }
  },
  {
   "cell_type": "markdown",
   "source": [
    "The prior is in the rows."
   ],
   "metadata": {
    "collapsed": false
   }
  },
  {
   "cell_type": "code",
   "execution_count": 128,
   "outputs": [
    {
     "data": {
      "text/plain": "              person   bicycle       car  motorcycle  airplane       bus  \\\nperson      0.000000  0.041223  0.132871    0.043453  0.016018  0.046962   \nbicycle     0.812731  0.000000  0.379766    0.138991  0.005228  0.132841   \ncar         0.695372  0.100808  0.000000    0.112399  0.029140  0.173455   \nmotorcycle  0.795545  0.129069  0.393204    0.000000  0.004283  0.083666   \nairplane    0.343938  0.005693  0.119558    0.005023  0.000000  0.024113   \n...              ...       ...       ...         ...       ...       ...   \nscissors    0.411827  0.005280  0.009504    0.001056  0.000000  0.000000   \nteddy bear  0.400000  0.011682  0.037383    0.007009  0.000935  0.003738   \nhair drier  0.518519  0.000000  0.010582    0.005291  0.005291  0.005291   \ntoothbrush  0.536246  0.003972  0.008937    0.000000  0.000000  0.000000   \n                 NaN       NaN       NaN         NaN       NaN       NaN   \n\n               train     truck      boat  traffic light  ...  refrigerator  \\\nperson      0.025376  0.062263  0.030991       0.038213  ...      0.013616   \nbicycle     0.031673  0.137761  0.038130       0.141144  ...      0.005535   \ncar         0.034446  0.299078  0.021386       0.206840  ...      0.002857   \nmotorcycle  0.006853  0.180183  0.006282       0.091947  ...      0.001428   \nairplane    0.002679  0.215673  0.026122       0.007368  ...      0.000670   \n...              ...       ...       ...            ...  ...           ...   \nscissors    0.000000  0.005280  0.000000       0.001056  ...      0.032735   \nteddy bear  0.003271  0.007477  0.005140       0.003271  ...      0.005607   \nhair drier  0.000000  0.000000  0.000000       0.000000  ...      0.005291   \ntoothbrush  0.000000  0.000993  0.001986       0.000993  ...      0.005958   \n                 NaN       NaN       NaN            NaN  ...           NaN   \n\n                     book     clock      vase  scissors  teddy bear  \\\nperson      0.0  0.035546  0.029712  0.013086  0.006083    0.013351   \nbicycle     0.0  0.021833  0.029828  0.005228  0.001538    0.007688   \ncar         0.0  0.007428  0.040731  0.003265  0.000735    0.006530   \nmotorcycle  0.0  0.007424  0.014563  0.000857  0.000286    0.004283   \nairplane    0.0  0.002679  0.003684  0.000335  0.000000    0.000670   \n...         ...       ...       ...       ...       ...         ...   \nscissors    0.0  0.149947  0.036959  0.036959  0.000000    0.009504   \nteddy bear  0.0  0.126636  0.021495  0.028972  0.004206    0.000000   \nhair drier  0.0  0.058201  0.042328  0.052910  0.010582    0.015873   \ntoothbrush  0.0  0.051639  0.017875  0.028798  0.014896    0.009930   \n            NaN       NaN       NaN       NaN       NaN         NaN   \n\n            hair drier  toothbrush       \nperson        0.001529    0.008422  0.0  \nbicycle       0.000000    0.001230  0.0  \ncar           0.000163    0.000735  0.0  \nmotorcycle    0.000286    0.000000  0.0  \nairplane      0.000335    0.000000  0.0  \n...                ...         ...  ...  \nscissors      0.002112    0.015839  0.0  \nteddy bear    0.001402    0.004673  0.0  \nhair drier    0.000000    0.111111  0.0  \ntoothbrush    0.020854    0.000000  0.0  \n                   NaN         NaN  NaN  \n\n[91 rows x 91 columns]",
      "text/html": "<div>\n<style scoped>\n    .dataframe tbody tr th:only-of-type {\n        vertical-align: middle;\n    }\n\n    .dataframe tbody tr th {\n        vertical-align: top;\n    }\n\n    .dataframe thead th {\n        text-align: right;\n    }\n</style>\n<table border=\"1\" class=\"dataframe\">\n  <thead>\n    <tr style=\"text-align: right;\">\n      <th></th>\n      <th>person</th>\n      <th>bicycle</th>\n      <th>car</th>\n      <th>motorcycle</th>\n      <th>airplane</th>\n      <th>bus</th>\n      <th>train</th>\n      <th>truck</th>\n      <th>boat</th>\n      <th>traffic light</th>\n      <th>...</th>\n      <th>refrigerator</th>\n      <th></th>\n      <th>book</th>\n      <th>clock</th>\n      <th>vase</th>\n      <th>scissors</th>\n      <th>teddy bear</th>\n      <th>hair drier</th>\n      <th>toothbrush</th>\n      <th></th>\n    </tr>\n  </thead>\n  <tbody>\n    <tr>\n      <th>person</th>\n      <td>0.000000</td>\n      <td>0.041223</td>\n      <td>0.132871</td>\n      <td>0.043453</td>\n      <td>0.016018</td>\n      <td>0.046962</td>\n      <td>0.025376</td>\n      <td>0.062263</td>\n      <td>0.030991</td>\n      <td>0.038213</td>\n      <td>...</td>\n      <td>0.013616</td>\n      <td>0.0</td>\n      <td>0.035546</td>\n      <td>0.029712</td>\n      <td>0.013086</td>\n      <td>0.006083</td>\n      <td>0.013351</td>\n      <td>0.001529</td>\n      <td>0.008422</td>\n      <td>0.0</td>\n    </tr>\n    <tr>\n      <th>bicycle</th>\n      <td>0.812731</td>\n      <td>0.000000</td>\n      <td>0.379766</td>\n      <td>0.138991</td>\n      <td>0.005228</td>\n      <td>0.132841</td>\n      <td>0.031673</td>\n      <td>0.137761</td>\n      <td>0.038130</td>\n      <td>0.141144</td>\n      <td>...</td>\n      <td>0.005535</td>\n      <td>0.0</td>\n      <td>0.021833</td>\n      <td>0.029828</td>\n      <td>0.005228</td>\n      <td>0.001538</td>\n      <td>0.007688</td>\n      <td>0.000000</td>\n      <td>0.001230</td>\n      <td>0.0</td>\n    </tr>\n    <tr>\n      <th>car</th>\n      <td>0.695372</td>\n      <td>0.100808</td>\n      <td>0.000000</td>\n      <td>0.112399</td>\n      <td>0.029140</td>\n      <td>0.173455</td>\n      <td>0.034446</td>\n      <td>0.299078</td>\n      <td>0.021386</td>\n      <td>0.206840</td>\n      <td>...</td>\n      <td>0.002857</td>\n      <td>0.0</td>\n      <td>0.007428</td>\n      <td>0.040731</td>\n      <td>0.003265</td>\n      <td>0.000735</td>\n      <td>0.006530</td>\n      <td>0.000163</td>\n      <td>0.000735</td>\n      <td>0.0</td>\n    </tr>\n    <tr>\n      <th>motorcycle</th>\n      <td>0.795545</td>\n      <td>0.129069</td>\n      <td>0.393204</td>\n      <td>0.000000</td>\n      <td>0.004283</td>\n      <td>0.083666</td>\n      <td>0.006853</td>\n      <td>0.180183</td>\n      <td>0.006282</td>\n      <td>0.091947</td>\n      <td>...</td>\n      <td>0.001428</td>\n      <td>0.0</td>\n      <td>0.007424</td>\n      <td>0.014563</td>\n      <td>0.000857</td>\n      <td>0.000286</td>\n      <td>0.004283</td>\n      <td>0.000286</td>\n      <td>0.000000</td>\n      <td>0.0</td>\n    </tr>\n    <tr>\n      <th>airplane</th>\n      <td>0.343938</td>\n      <td>0.005693</td>\n      <td>0.119558</td>\n      <td>0.005023</td>\n      <td>0.000000</td>\n      <td>0.024113</td>\n      <td>0.002679</td>\n      <td>0.215673</td>\n      <td>0.026122</td>\n      <td>0.007368</td>\n      <td>...</td>\n      <td>0.000670</td>\n      <td>0.0</td>\n      <td>0.002679</td>\n      <td>0.003684</td>\n      <td>0.000335</td>\n      <td>0.000000</td>\n      <td>0.000670</td>\n      <td>0.000335</td>\n      <td>0.000000</td>\n      <td>0.0</td>\n    </tr>\n    <tr>\n      <th>...</th>\n      <td>...</td>\n      <td>...</td>\n      <td>...</td>\n      <td>...</td>\n      <td>...</td>\n      <td>...</td>\n      <td>...</td>\n      <td>...</td>\n      <td>...</td>\n      <td>...</td>\n      <td>...</td>\n      <td>...</td>\n      <td>...</td>\n      <td>...</td>\n      <td>...</td>\n      <td>...</td>\n      <td>...</td>\n      <td>...</td>\n      <td>...</td>\n      <td>...</td>\n      <td>...</td>\n    </tr>\n    <tr>\n      <th>scissors</th>\n      <td>0.411827</td>\n      <td>0.005280</td>\n      <td>0.009504</td>\n      <td>0.001056</td>\n      <td>0.000000</td>\n      <td>0.000000</td>\n      <td>0.000000</td>\n      <td>0.005280</td>\n      <td>0.000000</td>\n      <td>0.001056</td>\n      <td>...</td>\n      <td>0.032735</td>\n      <td>0.0</td>\n      <td>0.149947</td>\n      <td>0.036959</td>\n      <td>0.036959</td>\n      <td>0.000000</td>\n      <td>0.009504</td>\n      <td>0.002112</td>\n      <td>0.015839</td>\n      <td>0.0</td>\n    </tr>\n    <tr>\n      <th>teddy bear</th>\n      <td>0.400000</td>\n      <td>0.011682</td>\n      <td>0.037383</td>\n      <td>0.007009</td>\n      <td>0.000935</td>\n      <td>0.003738</td>\n      <td>0.003271</td>\n      <td>0.007477</td>\n      <td>0.005140</td>\n      <td>0.003271</td>\n      <td>...</td>\n      <td>0.005607</td>\n      <td>0.0</td>\n      <td>0.126636</td>\n      <td>0.021495</td>\n      <td>0.028972</td>\n      <td>0.004206</td>\n      <td>0.000000</td>\n      <td>0.001402</td>\n      <td>0.004673</td>\n      <td>0.0</td>\n    </tr>\n    <tr>\n      <th>hair drier</th>\n      <td>0.518519</td>\n      <td>0.000000</td>\n      <td>0.010582</td>\n      <td>0.005291</td>\n      <td>0.005291</td>\n      <td>0.005291</td>\n      <td>0.000000</td>\n      <td>0.000000</td>\n      <td>0.000000</td>\n      <td>0.000000</td>\n      <td>...</td>\n      <td>0.005291</td>\n      <td>0.0</td>\n      <td>0.058201</td>\n      <td>0.042328</td>\n      <td>0.052910</td>\n      <td>0.010582</td>\n      <td>0.015873</td>\n      <td>0.000000</td>\n      <td>0.111111</td>\n      <td>0.0</td>\n    </tr>\n    <tr>\n      <th>toothbrush</th>\n      <td>0.536246</td>\n      <td>0.003972</td>\n      <td>0.008937</td>\n      <td>0.000000</td>\n      <td>0.000000</td>\n      <td>0.000000</td>\n      <td>0.000000</td>\n      <td>0.000993</td>\n      <td>0.001986</td>\n      <td>0.000993</td>\n      <td>...</td>\n      <td>0.005958</td>\n      <td>0.0</td>\n      <td>0.051639</td>\n      <td>0.017875</td>\n      <td>0.028798</td>\n      <td>0.014896</td>\n      <td>0.009930</td>\n      <td>0.020854</td>\n      <td>0.000000</td>\n      <td>0.0</td>\n    </tr>\n    <tr>\n      <th></th>\n      <td>NaN</td>\n      <td>NaN</td>\n      <td>NaN</td>\n      <td>NaN</td>\n      <td>NaN</td>\n      <td>NaN</td>\n      <td>NaN</td>\n      <td>NaN</td>\n      <td>NaN</td>\n      <td>NaN</td>\n      <td>...</td>\n      <td>NaN</td>\n      <td>NaN</td>\n      <td>NaN</td>\n      <td>NaN</td>\n      <td>NaN</td>\n      <td>NaN</td>\n      <td>NaN</td>\n      <td>NaN</td>\n      <td>NaN</td>\n      <td>NaN</td>\n    </tr>\n  </tbody>\n</table>\n<p>91 rows × 91 columns</p>\n</div>"
     },
     "execution_count": 128,
     "metadata": {},
     "output_type": "execute_result"
    }
   ],
   "source": [
    "cprobs"
   ],
   "metadata": {
    "collapsed": false,
    "pycharm": {
     "name": "#%%\n"
    }
   }
  },
  {
   "cell_type": "code",
   "execution_count": 129,
   "outputs": [
    {
     "data": {
      "text/plain": "                   0\nperson      0.542029\nbicycle     0.027492\ncar         0.103570\nmotorcycle  0.029606\nairplane    0.025244\n...              ...\nscissors    0.008006\nteddy bear  0.018092\nhair drier  0.001598\ntoothbrush  0.008513\n            0.000000\n\n[91 rows x 1 columns]",
      "text/html": "<div>\n<style scoped>\n    .dataframe tbody tr th:only-of-type {\n        vertical-align: middle;\n    }\n\n    .dataframe tbody tr th {\n        vertical-align: top;\n    }\n\n    .dataframe thead th {\n        text-align: right;\n    }\n</style>\n<table border=\"1\" class=\"dataframe\">\n  <thead>\n    <tr style=\"text-align: right;\">\n      <th></th>\n      <th>0</th>\n    </tr>\n  </thead>\n  <tbody>\n    <tr>\n      <th>person</th>\n      <td>0.542029</td>\n    </tr>\n    <tr>\n      <th>bicycle</th>\n      <td>0.027492</td>\n    </tr>\n    <tr>\n      <th>car</th>\n      <td>0.103570</td>\n    </tr>\n    <tr>\n      <th>motorcycle</th>\n      <td>0.029606</td>\n    </tr>\n    <tr>\n      <th>airplane</th>\n      <td>0.025244</td>\n    </tr>\n    <tr>\n      <th>...</th>\n      <td>...</td>\n    </tr>\n    <tr>\n      <th>scissors</th>\n      <td>0.008006</td>\n    </tr>\n    <tr>\n      <th>teddy bear</th>\n      <td>0.018092</td>\n    </tr>\n    <tr>\n      <th>hair drier</th>\n      <td>0.001598</td>\n    </tr>\n    <tr>\n      <th>toothbrush</th>\n      <td>0.008513</td>\n    </tr>\n    <tr>\n      <th></th>\n      <td>0.000000</td>\n    </tr>\n  </tbody>\n</table>\n<p>91 rows × 1 columns</p>\n</div>"
     },
     "execution_count": 129,
     "metadata": {},
     "output_type": "execute_result"
    }
   ],
   "source": [
    "class_probs"
   ],
   "metadata": {
    "collapsed": false,
    "pycharm": {
     "name": "#%%\n"
    }
   }
  },
  {
   "cell_type": "code",
   "execution_count": 131,
   "outputs": [],
   "source": [
    "counts.to_csv(results / \"counts.csv\")\n",
    "jprobs.to_csv(results / \"jprobs.csv\")\n",
    "cprobs.to_csv(results / \"cprobs.csv\")\n",
    "class_probs.to_csv(results / \"class_probs.csv\")"
   ],
   "metadata": {
    "collapsed": false,
    "pycharm": {
     "name": "#%%\n"
    }
   }
  },
  {
   "cell_type": "code",
   "execution_count": 132,
   "outputs": [],
   "source": [
    "counts.to_markdown(results / \"counts.md\")\n",
    "jprobs.to_markdown(results / \"jprobs.md\")\n",
    "cprobs.to_markdown(results / \"cprobs.md\")\n",
    "class_probs.to_markdown(results / \"class_probs.md\")"
   ],
   "metadata": {
    "collapsed": false,
    "pycharm": {
     "name": "#%%\n"
    }
   }
  }
 ],
 "metadata": {
  "kernelspec": {
   "display_name": "Python 3",
   "language": "python",
   "name": "python3"
  },
  "language_info": {
   "codemirror_mode": {
    "name": "ipython",
    "version": 2
   },
   "file_extension": ".py",
   "mimetype": "text/x-python",
   "name": "python",
   "nbconvert_exporter": "python",
   "pygments_lexer": "ipython2",
   "version": "2.7.6"
  }
 },
 "nbformat": 4,
 "nbformat_minor": 0
}